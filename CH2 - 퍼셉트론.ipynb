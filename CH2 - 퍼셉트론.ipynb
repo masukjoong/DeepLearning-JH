{
 "cells": [
  {
   "cell_type": "markdown",
   "id": "5056982c",
   "metadata": {},
   "source": [
    "# 2 퍼셉트론"
   ]
  },
  {
   "cell_type": "code",
   "execution_count": 1,
   "id": "6150eb26",
   "metadata": {},
   "outputs": [],
   "source": [
    "# 공통영역\n",
    "import numpy as np"
   ]
  },
  {
   "cell_type": "markdown",
   "id": "3945d3b7",
   "metadata": {},
   "source": [
    "### 2.3.1 간단한 논리회로"
   ]
  },
  {
   "cell_type": "code",
   "execution_count": 2,
   "id": "03a7ac24",
   "metadata": {},
   "outputs": [],
   "source": [
    "def AND(x1, x2):\n",
    "    w1, w2, theta = 0.5, 0.5, 0.5\n",
    "    tmp = x1*w1 + x2*w2\n",
    "    if tmp <= theta:\n",
    "        return 0\n",
    "    elif tmp > theta:\n",
    "        return 1"
   ]
  },
  {
   "cell_type": "code",
   "execution_count": 3,
   "id": "2d4f9383",
   "metadata": {},
   "outputs": [
    {
     "name": "stdout",
     "output_type": "stream",
     "text": [
      "CASE1: 0\n",
      "CASE2: 0\n",
      "CASE3: 0\n",
      "CASE4: 1\n"
     ]
    }
   ],
   "source": [
    "print(\"CASE1: \"+ str(AND(0, 0))) # 0 을 출력\n",
    "print(\"CASE2: \"+ str(AND(1, 0))) # 0 을 출력\n",
    "print(\"CASE3: \"+ str(AND(0, 1))) # 0 을 출력\n",
    "print(\"CASE4: \"+ str(AND(1, 1))) # 1 을 출력"
   ]
  },
  {
   "cell_type": "markdown",
   "id": "f94d3dfb",
   "metadata": {},
   "source": [
    "### 2.3.2 가중치와 편향"
   ]
  },
  {
   "cell_type": "code",
   "execution_count": 4,
   "id": "5adcc592",
   "metadata": {},
   "outputs": [
    {
     "data": {
      "text/plain": [
       "array([0. , 0.5])"
      ]
     },
     "execution_count": 4,
     "metadata": {},
     "output_type": "execute_result"
    }
   ],
   "source": [
    "x = np.array([0, 1]) #입력\n",
    "w = np.array([0.5, 0.5]) #가중치\n",
    "b = -0.7 #편향\n",
    "w * x"
   ]
  },
  {
   "cell_type": "code",
   "execution_count": 5,
   "id": "e52a458d",
   "metadata": {},
   "outputs": [
    {
     "data": {
      "text/plain": [
       "0.5"
      ]
     },
     "execution_count": 5,
     "metadata": {},
     "output_type": "execute_result"
    }
   ],
   "source": [
    "np.sum(w*x)"
   ]
  },
  {
   "cell_type": "code",
   "execution_count": 6,
   "id": "c3e01e61",
   "metadata": {},
   "outputs": [
    {
     "data": {
      "text/plain": [
       "-0.19999999999999996"
      ]
     },
     "execution_count": 6,
     "metadata": {},
     "output_type": "execute_result"
    }
   ],
   "source": [
    "np.sum(w*x) + b"
   ]
  },
  {
   "cell_type": "markdown",
   "id": "5f80e1df",
   "metadata": {},
   "source": [
    "### 2.3.3 가중치와 편향 구현"
   ]
  },
  {
   "cell_type": "code",
   "execution_count": 7,
   "id": "649e1e6b",
   "metadata": {},
   "outputs": [],
   "source": [
    "def AND2(x1, x2):\n",
    "    x = np.array([x1, x2])\n",
    "    w = np.array([0.5, 0.5])\n",
    "    b = -0.7\n",
    "    tmp = np.sum(w*x) + b\n",
    "    if tmp <= 0:\n",
    "        return 0\n",
    "    else:\n",
    "        return 1"
   ]
  },
  {
   "cell_type": "code",
   "execution_count": 8,
   "id": "de307cab",
   "metadata": {},
   "outputs": [],
   "source": [
    "def NAND(x1, x2):\n",
    "    x = np.array([x1, x2])\n",
    "    w = np.array([-0.5, -0.5])\n",
    "    b = 0.7\n",
    "    tmp = np.sum(w*x) + b\n",
    "    if tmp <= 0:\n",
    "        return 0\n",
    "    else:\n",
    "        return 1"
   ]
  },
  {
   "cell_type": "code",
   "execution_count": 9,
   "id": "20bc32e7",
   "metadata": {},
   "outputs": [],
   "source": [
    "def OR(x1, x2):\n",
    "    x = np.array([x1, x2])\n",
    "    w = np.array([0.5, 0.5])\n",
    "    b = -0.2\n",
    "    tmp = np.sum(w*x) + b\n",
    "    if tmp <= 0:\n",
    "        return 0\n",
    "    else:\n",
    "        return 1"
   ]
  },
  {
   "cell_type": "markdown",
   "id": "01992c0c",
   "metadata": {},
   "source": [
    "## 2.5 다층 퍼셉트론"
   ]
  },
  {
   "cell_type": "markdown",
   "id": "2a29d6a5",
   "metadata": {},
   "source": [
    "### 2.5.2 XOR 게이트 구현"
   ]
  },
  {
   "cell_type": "code",
   "execution_count": 10,
   "id": "8f5e3891",
   "metadata": {},
   "outputs": [],
   "source": [
    "def XOR(x1, x2):\n",
    "    s1 = NAND(x1, x2)\n",
    "    s2 = OR(x1, x2)\n",
    "    y = AND2(s1, s2)\n",
    "    return y"
   ]
  },
  {
   "cell_type": "code",
   "execution_count": 11,
   "id": "94c70fea",
   "metadata": {},
   "outputs": [
    {
     "name": "stdout",
     "output_type": "stream",
     "text": [
      "CASE1: 0\n",
      "CASE2: 1\n",
      "CASE3: 1\n",
      "CASE4: 0\n"
     ]
    }
   ],
   "source": [
    "print(\"CASE1: \"+ str(XOR(0, 0))) # 0 을 출력\n",
    "print(\"CASE2: \"+ str(XOR(1, 0))) # 1 을 출력\n",
    "print(\"CASE3: \"+ str(XOR(0, 1))) # 1 을 출력\n",
    "print(\"CASE4: \"+ str(XOR(1, 1))) # 0 을 출력"
   ]
  }
 ],
 "metadata": {
  "kernelspec": {
   "display_name": "Python 3 (ipykernel)",
   "language": "python",
   "name": "python3"
  },
  "language_info": {
   "codemirror_mode": {
    "name": "ipython",
    "version": 3
   },
   "file_extension": ".py",
   "mimetype": "text/x-python",
   "name": "python",
   "nbconvert_exporter": "python",
   "pygments_lexer": "ipython3",
   "version": "3.10.5"
  }
 },
 "nbformat": 4,
 "nbformat_minor": 5
}
