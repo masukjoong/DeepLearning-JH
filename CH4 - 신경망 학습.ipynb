{
 "cells": [
  {
   "cell_type": "code",
   "execution_count": 1,
   "id": "69d49840",
   "metadata": {},
   "outputs": [],
   "source": [
    "# 공통 영역\n",
    "import sys, os\n",
    "sys.path.append(os.pardir)  # 부모 디렉터리의 파일을 가져올 수 있도록 설정\n",
    "import numpy as np\n",
    "import matplotlib.pyplot as plt\n",
    "from dataset.mnist import load_mnist"
   ]
  },
  {
   "cell_type": "markdown",
   "id": "74e8f56b",
   "metadata": {},
   "source": [
    "# 신경망 학습\n",
    "\n",
    "- 학습이란\n",
    "    - 가중치 매개변수의 최적값을 자동으로 획득하는 것"
   ]
  },
  {
   "cell_type": "markdown",
   "id": "ec60b405",
   "metadata": {},
   "source": [
    "### 4.1.2 훈련데이터와 시험데이터\n",
    "\n",
    "- 기계학습 문제는 데이터를 **훈련데이터**와 **시험데이터**로 나눠 학습과 실험을 수행하는게 일반적\n",
    "- **범용능력**을 제대로 평가하기 위해 **시험데이터**와 분리함\n",
    "- 한 데이터셋에만 지나치게 최적화 된 상태를 **과적합(overfitting)**이라고 함"
   ]
  },
  {
   "cell_type": "markdown",
   "id": "007dd301",
   "metadata": {},
   "source": [
    "## 4.2 손실 함수(loss function)\n",
    "- 최적의 매개변수 값을 탐색할때 사용하는 지표를 **손실함수(loss function)**라고 함\n",
    "- **비용함수(cost function)**라고도 함\n",
    "- 일반적으로 오차제곱합과 교차 엔트로피 오차를 사용함\n",
    "- 신경망 성능의 '나쁨'을 나타내는 지표. 적을수록 좋음"
   ]
  },
  {
   "cell_type": "markdown",
   "id": "6662dc9b",
   "metadata": {},
   "source": [
    "### 4.2.1 오차제곱합(Sum of Squares for Error, SSE)\n",
    "- 가장 많이 쓰이는 손실 함수는 **오차제곱합(sum of squares for error, SSE)**"
   ]
  },
  {
   "cell_type": "markdown",
   "id": "bfd65ef6",
   "metadata": {},
   "source": [
    "<img src=\"deep_learning_images/e 4.1.png\"> "
   ]
  },
  {
   "cell_type": "markdown",
   "id": "413cd463",
   "metadata": {},
   "source": [
    "- **원-핫 인코딩**: 한 원소만 1로 하고 그 외는 0으로 나타내는 표기법\n",
    "    - ex) y = [0, 0, 1, 0, 0, 0, 0, 0, 0, 0, 0]"
   ]
  },
  {
   "cell_type": "code",
   "execution_count": 2,
   "id": "a21aca5d",
   "metadata": {},
   "outputs": [],
   "source": [
    "def sum_squares_error(y, t):\n",
    "    return 0.5 * np.sum((y -t)**2)"
   ]
  },
  {
   "cell_type": "markdown",
   "id": "8e098736",
   "metadata": {},
   "source": [
    "### 교차 엔트로피 오차(Cross Entropy Error, CEE)"
   ]
  },
  {
   "cell_type": "markdown",
   "id": "e52dc822",
   "metadata": {},
   "source": [
    "<img src=\"deep_learning_images/e 4.2.png\"> "
   ]
  },
  {
   "cell_type": "markdown",
   "id": "c1fca95e",
   "metadata": {},
   "source": [
    "- yk는 신경망의 출력\n",
    "- tk는 정답레이블. 여기서 정답에 해당하는 인덱스의 원소만 1이고 나머지는 0임(원-핫인코딩)\n",
    "- 정답일 때의 출력이 전체 값을 정함\n",
    "\n",
    "(뭔소린지 이해못함)"
   ]
  },
  {
   "cell_type": "code",
   "execution_count": 3,
   "id": "cf242c8d",
   "metadata": {},
   "outputs": [],
   "source": [
    "def cross_entropy_error(y, t):\n",
    "    delta = 1e-7\n",
    "    return -np.sum(t * np.log(y + delta)) # np.log() 함수에 0을 입력하면 -inf가 되어 아주작은 값 delta를 더해줌"
   ]
  },
  {
   "cell_type": "code",
   "execution_count": 4,
   "id": "cd42c616",
   "metadata": {},
   "outputs": [
    {
     "data": {
      "text/plain": [
       "0.510825457099338"
      ]
     },
     "execution_count": 4,
     "metadata": {},
     "output_type": "execute_result"
    }
   ],
   "source": [
    "t=[0,0,1,0,0,0,0,0,0,0]\n",
    "y=[0.1,0.05,0.6,0.0,0.05,0.1,0.0,0.1,0.0,0.0]\n",
    "cross_entropy_error(np.array(y),np.array(t))"
   ]
  },
  {
   "cell_type": "code",
   "execution_count": 5,
   "id": "54aff7d6",
   "metadata": {},
   "outputs": [
    {
     "data": {
      "text/plain": [
       "2.302584092994546"
      ]
     },
     "execution_count": 5,
     "metadata": {},
     "output_type": "execute_result"
    }
   ],
   "source": [
    "y = [0.1,0.05,0.1,0.0,0.05,0.1,0.0,0.6,0.0,0.0]\n",
    "cross_entropy_error(np.array(y), np.array(t))"
   ]
  },
  {
   "cell_type": "markdown",
   "id": "ed56e2f6",
   "metadata": {},
   "source": [
    "### 4.2.3 미니배치학습\n",
    "\n",
    "- 기계학습 문제는 훈련데이터를 사용해 학습함\n",
    "- 훈련데이터에 대한 손실 함수의 값을 구하고, 그 값을 최대한 줄여주는 매개변수를 찾음\n",
    "\n",
    "- 교차 엔트로피 오차는 아래 그림처럼 됨"
   ]
  },
  {
   "cell_type": "markdown",
   "id": "5828625e",
   "metadata": {},
   "source": [
    "<img src=\"deep_learning_images/e 4.3.png\"> "
   ]
  },
  {
   "cell_type": "markdown",
   "id": "51316b23",
   "metadata": {},
   "source": [
    "- 데이터가 N개 라면 tnk는 n번째 데이터의 k번째 값을 의미\n",
    "- 마지막에 N을 나눠주는 이유는 **평균 손실 함수**를 구하기 위함"
   ]
  },
  {
   "cell_type": "markdown",
   "id": "00bfe255",
   "metadata": {},
   "source": [
    "- 하지만 데이터가 많아 지면 속도가 많이 걸림\n",
    "- 이를 현실적으로 계산하기 위해 훈련데이터의 _일부_를 추려 전체의 '근사치'로 이용\n",
    "- 이 일부를 **미니배치(mini-batch)** 라고 하며 이러한 학습방법을 **미니배치 학습** 이라고 함"
   ]
  },
  {
   "cell_type": "markdown",
   "id": "031dd6f2",
   "metadata": {},
   "source": [
    "### 4.2.4 교차 엔트로피 구현"
   ]
  },
  {
   "cell_type": "code",
   "execution_count": 6,
   "id": "3210b78b",
   "metadata": {},
   "outputs": [],
   "source": [
    "# y는 신경망의 출력, t는 정답 레이블\n",
    "def cross_entropy_error(y, t):\n",
    "    if y.ndim == 1:\n",
    "        t = t.resahpe(1, t.size)\n",
    "        y = y.reshape(1, y.size)\n",
    "    if t.size == y.size:\n",
    "        t = t.argmax(axis=1)\n",
    "    batch_size = y.shape[0]\n",
    "    return -np.sum(np.log(y[np.arange(batch_size), t] + 1e-7)) / batch_size"
   ]
  },
  {
   "cell_type": "markdown",
   "id": "38e6cdbe",
   "metadata": {},
   "source": [
    "## 4.3 수치 미분\n",
    "- 경사법에서는 기울기(경사) 값을 기준으로 나아갈 방향을 정함"
   ]
  },
  {
   "cell_type": "markdown",
   "id": "555f807e",
   "metadata": {},
   "source": [
    "### 4.3.1 미분"
   ]
  },
  {
   "cell_type": "markdown",
   "id": "d3d54f0a",
   "metadata": {},
   "source": [
    "<img src=\"deep_learning_images/e 4.4.png\"> "
   ]
  },
  {
   "cell_type": "markdown",
   "id": "845edcc9",
   "metadata": {},
   "source": [
    "- x의 '작은 변화'가 함수 f(x)를 얼마나 변화시키느냐를 의미\n",
    "- 시간을 뜻하는 h를 한없이 0에 가깝게 하여 구하는 식"
   ]
  },
  {
   "cell_type": "code",
   "execution_count": 7,
   "id": "a2ed564d",
   "metadata": {},
   "outputs": [],
   "source": [
    "# 수치미분(numerical differentiation)의 나쁜 구현 예시\n",
    "def numerical_diff(f, x):\n",
    "    h = 1e-50\n",
    "    return (f(x + h) - f(x)) / h"
   ]
  },
  {
   "cell_type": "markdown",
   "id": "46917826",
   "metadata": {},
   "source": [
    "- h에 가급적 작은 값을 대입하려고 1e-50 을 대입했으나 **반올림 오차(rounding error)** 문제를 일으킴"
   ]
  },
  {
   "cell_type": "code",
   "execution_count": 8,
   "id": "bafa1b6b",
   "metadata": {},
   "outputs": [
    {
     "data": {
      "text/plain": [
       "0.0"
      ]
     },
     "execution_count": 8,
     "metadata": {},
     "output_type": "execute_result"
    }
   ],
   "source": [
    "# 반올림 오차 예시\n",
    "np.float32(1e-50)"
   ]
  },
  {
   "cell_type": "markdown",
   "id": "78d363aa",
   "metadata": {},
   "source": [
    "<img src=\"deep_learning_images/fig 4-5.png\" width=\"500\" height=\"600\">"
   ]
  },
  {
   "cell_type": "markdown",
   "id": "81b3896b",
   "metadata": {},
   "source": [
    "- 위와 같이 수치미분에는 오차가 포함됨\n",
    "- 이 오차를 줄이기 위해 (x + h)와 (x-h)일때의 함수 f의 차분을 계산\n",
    "- 차분은 x를 중심으로 **중심 차분** 혹은 **중앙 차분** 이라고 함\n",
    "- (x + h)와 x의 차분은 **전방차분** 이라고 함"
   ]
  },
  {
   "cell_type": "code",
   "execution_count": 9,
   "id": "a85247ee",
   "metadata": {},
   "outputs": [],
   "source": [
    "# 개선된 수치미분 수식\n",
    "def numerical_diff(f, x):\n",
    "    h = 1e-4 # 0.0001\n",
    "    return (f(x+h) - f(x-h)) / (2*h)"
   ]
  },
  {
   "cell_type": "markdown",
   "id": "a8815e53",
   "metadata": {},
   "source": [
    "## 4.4 기울기(gradient)\n",
    "\n",
    "- 모든 변수의 편미분을 벡터로 정리한 것"
   ]
  },
  {
   "cell_type": "code",
   "execution_count": 10,
   "id": "b055bf4e",
   "metadata": {},
   "outputs": [],
   "source": [
    "def numerical_gradient(f, x):\n",
    "    h = 1e-4 # 0.0001\n",
    "    grad = np.zeros_like(x) # x와 형상이 같은 배열을 생성\n",
    "    for idx in range(x.size):\n",
    "        tmp_val = x[idx]\n",
    "        # f(x + h)\n",
    "        x[idx] = tmp_val + h\n",
    "        fxh1 = f(x)\n",
    "        \n",
    "        # f(x - h)\n",
    "        x[idx] = tmp_val - h\n",
    "        fxh2 = f(x)\n",
    "        \n",
    "        grad[idx] = (fxh1 - fxh2) / (2*h)\n",
    "        x[idx] = tmp_val # 값 복원\n",
    "        \n",
    "    return grad"
   ]
  },
  {
   "cell_type": "markdown",
   "id": "f46d35c0",
   "metadata": {},
   "source": [
    "<img src=\"deep_learning_images/fig 4-9.png\" width=\"500\" height=\"600\">\n",
    "<center>그림 4-9 f(x0, x1) = x0*x0 + x1*x1의 기울기</center>"
   ]
  },
  {
   "cell_type": "markdown",
   "id": "183b459d",
   "metadata": {},
   "source": [
    "- 위 그림처럼 기울기는 각 지점에서 낮아지는 방향을 가리킴\n",
    "- **기울기가 가리키는 쪽은 각 장소에서 함수의 출력 값을 가장 크게 줄이는 방향**"
   ]
  },
  {
   "cell_type": "markdown",
   "id": "d68f934f",
   "metadata": {},
   "source": [
    "### 4.4.1 경사 하강법(gradient descent method)\n",
    "\n",
    "- 기울기를 활용해 손실 함수의 최솟값을 찾으려는 것\n",
    "- 함수가 극솟값, 최솟값 또는 안정점(saddle pooint)이 되는 장소는 기울기가 0\n",
    "- 경사가 여러곳인 함수라면 **고원(plateau)** 이라 하는 학습이 진행되지 않는 정체기에 빠질 수 있음"
   ]
  },
  {
   "cell_type": "markdown",
   "id": "ee2a113f",
   "metadata": {},
   "source": [
    "<img src=\"deep_learning_images/e 4.7.png\"> "
   ]
  },
  {
   "cell_type": "markdown",
   "id": "6076dbf3",
   "metadata": {},
   "source": [
    "- 위 수식에서 n 기호(eta)는 갱신하는 양을 나타냄\n",
    "- 신경망 학습에서는 **학습률(learning rate)** 이라고 함\n",
    "- 학습률 값은 미리 특정 값으로 정해두어야 하지만 값이 너무 크거나 작으면 '좋은 장소'를 찾아갈 수 없음"
   ]
  },
  {
   "cell_type": "code",
   "execution_count": 11,
   "id": "6d5dfb0b",
   "metadata": {},
   "outputs": [],
   "source": [
    "def gradient_descent(f, init_x, lr=0.01, step_num=100):\n",
    "    x = init_x\n",
    "\n",
    "    for i in range(step_num):\n",
    "        grad = numerical_gradient(f, x)\n",
    "        x -= lr * grad\n",
    "\n",
    "    return x\n",
    "\n",
    "\n",
    "def function_2(x):\n",
    "    return x[0]**2 + x[1]**2"
   ]
  },
  {
   "cell_type": "markdown",
   "id": "46b0100f",
   "metadata": {},
   "source": [
    "- 경사법으로 f(x0, x1) = x0*x0 + x1*x1의 최솟값을 구하는 문제"
   ]
  },
  {
   "cell_type": "code",
   "execution_count": 12,
   "id": "c50dcd58",
   "metadata": {},
   "outputs": [
    {
     "data": {
      "text/plain": [
       "array([-6.11110793e-10,  8.14814391e-10])"
      ]
     },
     "execution_count": 12,
     "metadata": {},
     "output_type": "execute_result"
    }
   ],
   "source": [
    "init_x = np.array([-3.0, 4.0])\n",
    "gradient_descent(function_2, init_x, lr=0.1)"
   ]
  },
  {
   "cell_type": "markdown",
   "id": "e8f5629c",
   "metadata": {},
   "source": [
    "<img src=\"deep_learning_images/fig 4-10.png\" width=\"500\" height=\"600\">\n",
    "<center>그림 4-10</center>\n",
    "- 점선은 함수의 등고선을 나타냄"
   ]
  },
  {
   "cell_type": "code",
   "execution_count": 13,
   "id": "a24d8adc",
   "metadata": {},
   "outputs": [
    {
     "data": {
      "text/plain": [
       "array([-2.58983747e+13, -1.29524862e+12])"
      ]
     },
     "execution_count": 13,
     "metadata": {},
     "output_type": "execute_result"
    }
   ],
   "source": [
    "# 학습률이 너무 큰 예 : lr = 10\n",
    "init_x = np.array([-3.0, 4.0])\n",
    "gradient_descent(function_2, init_x, lr=10)"
   ]
  },
  {
   "cell_type": "code",
   "execution_count": 14,
   "id": "b75c1c86",
   "metadata": {},
   "outputs": [
    {
     "data": {
      "text/plain": [
       "array([-2.99999994,  3.99999992])"
      ]
     },
     "execution_count": 14,
     "metadata": {},
     "output_type": "execute_result"
    }
   ],
   "source": [
    "# 학습률이 너무 작은 예 : lr = 1e-10\n",
    "init_x = np.array([-3.0, 4.0])\n",
    "gradient_descent(function_2, init_x, lr=1e-10)"
   ]
  },
  {
   "cell_type": "markdown",
   "id": "8036e96c",
   "metadata": {},
   "source": [
    "- 학습률과 같은 매개변수를 **하이퍼파라미터(hyper parameter)** 라고 함\n",
    "\n",
    "\n",
    "- 신경망의 가중치 매개변수는 훈련데이터와 학습 알고리즘에 의해 '자동'으로 획득되지만\n",
    "\n",
    "  학습률같은 하이퍼파라미터는 사람이 직접 설정해야함\n",
    "  \n",
    "  학습시 매직넘버가 나타나길 기도하자"
   ]
  },
  {
   "cell_type": "markdown",
   "id": "3252cf56",
   "metadata": {},
   "source": [
    "### 4.4.2 신경망에서의 기울기\n",
    "\n",
    "- 여기서의 기울기란 가중치 매개변수에 대한 손실함수의 기울기를 뜻함"
   ]
  },
  {
   "cell_type": "code",
   "execution_count": 15,
   "id": "f03476f3",
   "metadata": {},
   "outputs": [],
   "source": [
    "def softmax(a):\n",
    "        c = np.max(a)\n",
    "        exp_a = np.exp(a - c) # 오버플로 대책\n",
    "        sum_exp_a = np.sum(exp_a)\n",
    "        y = exp_a / sum_exp_a\n",
    "        return y"
   ]
  },
  {
   "cell_type": "code",
   "execution_count": 16,
   "id": "22d878cd",
   "metadata": {},
   "outputs": [],
   "source": [
    "class simpleNet:\n",
    "    def __init__(self):\n",
    "        self.W = np.random.randn(2,3) # 정규분포로 초기화\n",
    "        \n",
    "    def softmax(a):\n",
    "        c = np.max(a)\n",
    "        exp_a = np.exp(a - c) # 오버플로 대책\n",
    "        sum_exp_a = np.sum(exp_a)\n",
    "        y = exp_a / sum_exp_a\n",
    "        return y\n",
    "\n",
    "    def predict(self, x):\n",
    "        return np.dot(x, self.W)\n",
    "\n",
    "    def loss(self, x, t):\n",
    "        z = self.predict(x)\n",
    "        y = softmax(z)\n",
    "        loss = cross_entropy_error(y, t)\n",
    "        return loss"
   ]
  },
  {
   "cell_type": "code",
   "execution_count": 17,
   "id": "69e7fc4e",
   "metadata": {},
   "outputs": [
    {
     "name": "stdout",
     "output_type": "stream",
     "text": [
      "[[ 0.61575707 -0.30287285 -0.66654809]\n",
      " [ 0.20423855 -0.06043728 -0.46434786]]\n"
     ]
    }
   ],
   "source": [
    "net = simpleNet()\n",
    "print(net.W)"
   ]
  },
  {
   "cell_type": "code",
   "execution_count": 18,
   "id": "7f79f931",
   "metadata": {},
   "outputs": [
    {
     "name": "stdout",
     "output_type": "stream",
     "text": [
      "[ 0.55326894 -0.23611727 -0.81784192]\n"
     ]
    }
   ],
   "source": [
    "x = np.array([0.6, 0.9])\n",
    "p = net.predict(x)\n",
    "print(p)"
   ]
  },
  {
   "cell_type": "code",
   "execution_count": 19,
   "id": "a8965088",
   "metadata": {},
   "outputs": [
    {
     "data": {
      "text/plain": [
       "0"
      ]
     },
     "execution_count": 19,
     "metadata": {},
     "output_type": "execute_result"
    }
   ],
   "source": [
    "np.argmax(p)"
   ]
  },
  {
   "cell_type": "code",
   "execution_count": 20,
   "id": "d22bf98e",
   "metadata": {},
   "outputs": [],
   "source": [
    "def cross_entropy_error(y, t):\n",
    "    if y.ndim == 1:\n",
    "        t = t.reshape(1, t.size)\n",
    "        y = y.reshape(1, y.size)\n",
    "        \n",
    "    # 훈련 데이터가 원-핫 벡터라면 정답 레이블의 인덱스로 반환\n",
    "    if t.size == y.size:\n",
    "        t = t.argmax(axis=1)\n",
    "             \n",
    "    batch_size = y.shape[0]\n",
    "    return -np.sum(np.log(y[np.arange(batch_size), t] + 1e-7)) / batch_size"
   ]
  },
  {
   "cell_type": "code",
   "execution_count": 21,
   "id": "8e40056f",
   "metadata": {},
   "outputs": [
    {
     "data": {
      "text/plain": [
       "1.9064030075924556"
      ]
     },
     "execution_count": 21,
     "metadata": {},
     "output_type": "execute_result"
    }
   ],
   "source": [
    "t = np.array([0, 0, 1]) # 정답 레이블\n",
    "net.loss(x, t)"
   ]
  },
  {
   "cell_type": "code",
   "execution_count": 22,
   "id": "3350e6de",
   "metadata": {},
   "outputs": [],
   "source": [
    "def f(W):\n",
    "    return net.loss(x, t)"
   ]
  },
  {
   "cell_type": "code",
   "execution_count": 23,
   "id": "eec1f989",
   "metadata": {},
   "outputs": [],
   "source": [
    "# 책에서 나온수식말고 제공되는 코드로 해야 동작함\n",
    "def numerical_gradient(f, x):\n",
    "    h = 1e-4 # 0.0001\n",
    "    grad = np.zeros_like(x)\n",
    "    \n",
    "    it = np.nditer(x, flags=['multi_index'], op_flags=['readwrite'])\n",
    "    while not it.finished:\n",
    "        idx = it.multi_index\n",
    "        tmp_val = x[idx]\n",
    "        x[idx] = float(tmp_val) + h\n",
    "        fxh1 = f(x) # f(x+h)\n",
    "        \n",
    "        x[idx] = tmp_val - h \n",
    "        fxh2 = f(x) # f(x-h)\n",
    "        grad[idx] = (fxh1 - fxh2) / (2*h)\n",
    "        \n",
    "        x[idx] = tmp_val # 값 복원\n",
    "        it.iternext()   \n",
    "        \n",
    "    return grad"
   ]
  },
  {
   "cell_type": "code",
   "execution_count": 24,
   "id": "7acf4941",
   "metadata": {},
   "outputs": [
    {
     "name": "stdout",
     "output_type": "stream",
     "text": [
      "[[ 0.35129846  0.15953287 -0.51083132]\n",
      " [ 0.52694768  0.2392993  -0.76624698]]\n"
     ]
    }
   ],
   "source": [
    "dW = numerical_gradient(f, net.W)\n",
    "print(dW)"
   ]
  },
  {
   "cell_type": "markdown",
   "id": "994c11b5",
   "metadata": {},
   "source": [
    "## 4.5 학습 알고리즘 구현하기"
   ]
  },
  {
   "cell_type": "markdown",
   "id": "d4c5b504",
   "metadata": {},
   "source": [
    "### 학습 절차 복습\n",
    "\n",
    "- 전제\n",
    "    - 신경망에는 적응 가능한 가중치와 편향이 있음\n",
    "    - 이 가중치와 편향을 훈련 데이터에 적응하도록 조절하는 과정을 '학습'이라고 함\n",
    "- 1단계 - 미니배치\n",
    "    - 훈련 데이터 중 일부를 가져옴\n",
    "    - 가져온 일부 데이터를 미니배치라 함\n",
    "    - 위 데이터의 솔실함수 값을 줄이는 것이 목표\n",
    "- 2단계 - 기울기 산출\n",
    "    - 미니배치의 손실 함수 값을 줄이기 위해 각 매개변수의 기울기를 구함\n",
    "    - 기울기는 손실 함수의 값을 가장 작게 하는 방향을 제시\n",
    "- 3단계 - 매개변수 갱신\n",
    "    - 가중치 매개변수를 기울기 방향으로 아주 조금 갱신\n",
    "- 4단계 - 반복\n",
    "    - 1 ~ 3 단계를 반복"
   ]
  },
  {
   "cell_type": "markdown",
   "id": "f4815179",
   "metadata": {},
   "source": [
    "- 확률적 경사 하강법(SGD: stochastic gradient descent)\n",
    "    - 학습 _`데이터를 확률적으로 무작위로 골라내어 선정`_ 하기 때문에 이와같이 불림\n",
    "    - 대부분의 딥러닝 프레임워크는 SGD함수로 이 기능을 구현함"
   ]
  },
  {
   "cell_type": "markdown",
   "id": "7b226217",
   "metadata": {},
   "source": [
    "### 4.5.1 2층 신경망 클래스 구현"
   ]
  },
  {
   "cell_type": "code",
   "execution_count": 25,
   "id": "94634d34",
   "metadata": {},
   "outputs": [],
   "source": [
    "def sigmoid(x):\n",
    "    return 1 / (1 + np.exp(-x))    \n",
    "\n",
    "\n",
    "def sigmoid_grad(x):\n",
    "    return (1.0 - sigmoid(x)) * sigmoid(x)"
   ]
  },
  {
   "cell_type": "code",
   "execution_count": 26,
   "id": "5cc92469",
   "metadata": {},
   "outputs": [],
   "source": [
    "class TwoLayerNet:\n",
    "\n",
    "    def __init__(self, input_size, hidden_size, output_size, weight_init_std=0.01):\n",
    "        # 가중치 초기화\n",
    "        self.params = {}\n",
    "        self.params['W1'] = weight_init_std * np.random.randn(input_size, hidden_size)\n",
    "        self.params['b1'] = np.zeros(hidden_size)\n",
    "        self.params['W2'] = weight_init_std * np.random.randn(hidden_size, output_size)\n",
    "        self.params['b2'] = np.zeros(output_size)\n",
    "\n",
    "    def predict(self, x):\n",
    "        W1, W2 = self.params['W1'], self.params['W2']\n",
    "        b1, b2 = self.params['b1'], self.params['b2']\n",
    "    \n",
    "        a1 = np.dot(x, W1) + b1\n",
    "        z1 = sigmoid(a1)\n",
    "        a2 = np.dot(z1, W2) + b2\n",
    "        y = softmax(a2)\n",
    "        \n",
    "        return y\n",
    "        \n",
    "    # x : 입력 데이터, t : 정답 레이블\n",
    "    def loss(self, x, t):\n",
    "        y = self.predict(x)\n",
    "        \n",
    "        return cross_entropy_error(y, t)\n",
    "    \n",
    "    def accuracy(self, x, t):\n",
    "        y = self.predict(x)\n",
    "        y = np.argmax(y, axis=1)\n",
    "        t = np.argmax(t, axis=1)\n",
    "        \n",
    "        accuracy = np.sum(y == t) / float(x.shape[0])\n",
    "        return accuracy\n",
    "        \n",
    "    # x : 입력 데이터, t : 정답 레이블\n",
    "    def numerical_gradient(self, x, t):\n",
    "        loss_W = lambda W: self.loss(x, t)\n",
    "        \n",
    "        grads = {}\n",
    "        grads['W1'] = numerical_gradient(loss_W, self.params['W1'])\n",
    "        grads['b1'] = numerical_gradient(loss_W, self.params['b1'])\n",
    "        grads['W2'] = numerical_gradient(loss_W, self.params['W2'])\n",
    "        grads['b2'] = numerical_gradient(loss_W, self.params['b2'])\n",
    "        \n",
    "        return grads\n",
    "        \n",
    "    def gradient(self, x, t):\n",
    "        W1, W2 = self.params['W1'], self.params['W2']\n",
    "        b1, b2 = self.params['b1'], self.params['b2']\n",
    "        grads = {}\n",
    "        \n",
    "        batch_num = x.shape[0]\n",
    "        \n",
    "        # forward\n",
    "        a1 = np.dot(x, W1) + b1\n",
    "        z1 = sigmoid(a1)\n",
    "        a2 = np.dot(z1, W2) + b2\n",
    "        y = softmax(a2)\n",
    "        \n",
    "        # backward\n",
    "        dy = (y - t) / batch_num\n",
    "        grads['W2'] = np.dot(z1.T, dy)\n",
    "        grads['b2'] = np.sum(dy, axis=0)\n",
    "        \n",
    "        da1 = np.dot(dy, W2.T)\n",
    "        dz1 = sigmoid_grad(a1) * da1\n",
    "        grads['W1'] = np.dot(x.T, dz1)\n",
    "        grads['b1'] = np.sum(dz1, axis=0)\n",
    "\n",
    "        return grads"
   ]
  },
  {
   "cell_type": "code",
   "execution_count": 27,
   "id": "56123a50",
   "metadata": {},
   "outputs": [],
   "source": [
    "net = TwoLayerNet(784, 100, 10)"
   ]
  },
  {
   "cell_type": "code",
   "execution_count": 28,
   "id": "3f0279c5",
   "metadata": {},
   "outputs": [
    {
     "data": {
      "text/plain": [
       "(784, 100)"
      ]
     },
     "execution_count": 28,
     "metadata": {},
     "output_type": "execute_result"
    }
   ],
   "source": [
    "net.params['W1'].shape"
   ]
  },
  {
   "cell_type": "code",
   "execution_count": 29,
   "id": "340f4767",
   "metadata": {},
   "outputs": [
    {
     "data": {
      "text/plain": [
       "(100,)"
      ]
     },
     "execution_count": 29,
     "metadata": {},
     "output_type": "execute_result"
    }
   ],
   "source": [
    "net.params['b1'].shape"
   ]
  },
  {
   "cell_type": "code",
   "execution_count": 30,
   "id": "03e1021f",
   "metadata": {},
   "outputs": [
    {
     "data": {
      "text/plain": [
       "(100, 10)"
      ]
     },
     "execution_count": 30,
     "metadata": {},
     "output_type": "execute_result"
    }
   ],
   "source": [
    "net.params['W2'].shape"
   ]
  },
  {
   "cell_type": "code",
   "execution_count": 31,
   "id": "417409de",
   "metadata": {},
   "outputs": [
    {
     "data": {
      "text/plain": [
       "(10,)"
      ]
     },
     "execution_count": 31,
     "metadata": {},
     "output_type": "execute_result"
    }
   ],
   "source": [
    "net.params['b2'].shape"
   ]
  },
  {
   "cell_type": "code",
   "execution_count": 32,
   "id": "3afaab34",
   "metadata": {},
   "outputs": [],
   "source": [
    "# 더미 입력 데이터(100장 분량)\n",
    "x = np.random.rand(100, 784)\n",
    "# 더미 정답 레이블(100장 분량)\n",
    "t = np.random.rand(100, 10)"
   ]
  },
  {
   "cell_type": "code",
   "execution_count": 33,
   "id": "7da521b9",
   "metadata": {},
   "outputs": [],
   "source": [
    "# 기울기 계산\n",
    "# grads = net.numerical_gradient(x, t)"
   ]
  },
  {
   "cell_type": "code",
   "execution_count": 34,
   "id": "795a4a03",
   "metadata": {},
   "outputs": [],
   "source": [
    "# 시간 오래걸리니 아래 함수 쓰라고 함\n",
    "# 다음장에서 사용할 오차 역전파법\n",
    "# 미분을 사용할 때 와 거의 같은 결과를 빠르게 얻을 수 있음\n",
    "grads = net.gradient(x, t)"
   ]
  },
  {
   "cell_type": "code",
   "execution_count": 35,
   "id": "e174bfd3",
   "metadata": {},
   "outputs": [
    {
     "data": {
      "text/plain": [
       "(784, 100)"
      ]
     },
     "execution_count": 35,
     "metadata": {},
     "output_type": "execute_result"
    }
   ],
   "source": [
    "grads['W1'].shape"
   ]
  },
  {
   "cell_type": "code",
   "execution_count": 36,
   "id": "c0df9982",
   "metadata": {},
   "outputs": [
    {
     "data": {
      "text/plain": [
       "(100,)"
      ]
     },
     "execution_count": 36,
     "metadata": {},
     "output_type": "execute_result"
    }
   ],
   "source": [
    "grads['b1'].shape"
   ]
  },
  {
   "cell_type": "code",
   "execution_count": 37,
   "id": "d32cbf36",
   "metadata": {},
   "outputs": [
    {
     "data": {
      "text/plain": [
       "(100, 10)"
      ]
     },
     "execution_count": 37,
     "metadata": {},
     "output_type": "execute_result"
    }
   ],
   "source": [
    "grads['W2'].shape"
   ]
  },
  {
   "cell_type": "code",
   "execution_count": 38,
   "id": "c2e50de8",
   "metadata": {},
   "outputs": [
    {
     "data": {
      "text/plain": [
       "(10,)"
      ]
     },
     "execution_count": 38,
     "metadata": {},
     "output_type": "execute_result"
    }
   ],
   "source": [
    "grads['b2'].shape"
   ]
  },
  {
   "cell_type": "markdown",
   "id": "f39ea7da",
   "metadata": {},
   "source": [
    "### 4.5.2 미니배치 학습 구현"
   ]
  },
  {
   "cell_type": "code",
   "execution_count": 48,
   "id": "7d96a669",
   "metadata": {},
   "outputs": [],
   "source": [
    "# 데이터 읽기\n",
    "(x_train, t_train), (x_test, t_test) = load_mnist(normalize=True, one_hot_label=True)"
   ]
  },
  {
   "cell_type": "code",
   "execution_count": 55,
   "id": "49a0753d",
   "metadata": {},
   "outputs": [],
   "source": [
    "# 하이퍼파라미터\n",
    "iters_num = 1000  # 반복 횟수를 적절히 설정한다.\n",
    "train_size = x_train.shape[0]\n",
    "batch_size = 100   # 미니배치 크기\n",
    "learning_rate = 0.5\n",
    "\n",
    "train_loss_list = []\n",
    "train_acc_list = []\n",
    "test_acc_list = []\n",
    "\n",
    "# 1에폭당 반복 수\n",
    "iter_per_epoch = max(train_size / batch_size, 1)"
   ]
  },
  {
   "cell_type": "code",
   "execution_count": 56,
   "id": "c8f2e9c0",
   "metadata": {},
   "outputs": [],
   "source": [
    "network = TwoLayerNet(input_size=784, hidden_size=50, output_size=10)"
   ]
  },
  {
   "cell_type": "code",
   "execution_count": 57,
   "id": "8a97431e",
   "metadata": {},
   "outputs": [
    {
     "name": "stdout",
     "output_type": "stream",
     "text": [
      "train acc, test acc | 0.10218333333333333, 0.101\n",
      "train acc, test acc | 0.11236666666666667, 0.1135\n"
     ]
    }
   ],
   "source": [
    "for i in range(iters_num):\n",
    "    # 미니배치 획득\n",
    "    batch_mask = np.random.choice(train_size, batch_size)\n",
    "    x_batch = x_train[batch_mask]\n",
    "    t_batch = t_train[batch_mask]\n",
    "    \n",
    "    # 기울기 계산\n",
    "    #grad = network.numerical_gradient(x_batch, t_batch)\n",
    "    grad = network.gradient(x_batch, t_batch)\n",
    "    \n",
    "    # 매개변수 갱신\n",
    "    for key in ('W1', 'b1', 'W2', 'b2'):\n",
    "        network.params[key] -= learning_rate * grad[key]\n",
    "    \n",
    "    # 학습 경과 기록\n",
    "    loss = network.loss(x_batch, t_batch)\n",
    "    train_loss_list.append(loss)\n",
    "    \n",
    "    # 1에폭당 정확도 계산\n",
    "    if i % iter_per_epoch == 0:\n",
    "        train_acc = network.accuracy(x_train, t_train)\n",
    "        test_acc = network.accuracy(x_test, t_test)\n",
    "        train_acc_list.append(train_acc)\n",
    "        test_acc_list.append(test_acc)\n",
    "        print(\"train acc, test acc | \" + str(train_acc) + \", \" + str(test_acc))\n"
   ]
  },
  {
   "cell_type": "code",
   "execution_count": 43,
   "id": "19a04672",
   "metadata": {},
   "outputs": [
    {
     "data": {
      "image/png": "[encoded data removed]",
      "text/plain": [
       "<Figure size 432x288 with 1 Axes>"
      ]
     },
     "metadata": {
      "needs_background": "light"
     },
     "output_type": "display_data"
    }
   ],
   "source": [
    "# 그래프 그리기\n",
    "markers = {'train': 'o'}\n",
    "x = np.arange(len(train_loss_list))\n",
    "\n",
    "plt.plot(x, np.flip(train_loss_list), label='train loss')\n",
    "plt.xlabel(\"training count\")\n",
    "plt.ylabel(\"loss\")\n",
    "plt.ylim(0, 20.0)\n",
    "plt.legend(loc='lower right')\n",
    "plt.show()"
   ]
  },
  {
   "cell_type": "code",
   "execution_count": 58,
   "id": "42a75e49",
   "metadata": {},
   "outputs": [],
   "source": [
    "# 하이퍼파라미터\n",
    "iters_num = 10000\n",
    "train_size = x_train.shape[0]\n",
    "batch_size = 100   # 미니배치 크기\n",
    "learning_rate = 0.5\n",
    "\n",
    "train_loss_list = []\n",
    "train_acc_list = []\n",
    "test_acc_list = []\n",
    "\n",
    "# 1에폭당 반복 수\n",
    "iter_per_epoch = max(train_size / batch_size, 1)"
   ]
  },
  {
   "cell_type": "code",
   "execution_count": 59,
   "id": "7544f45c",
   "metadata": {},
   "outputs": [
    {
     "name": "stdout",
     "output_type": "stream",
     "text": [
      "train acc, test acc | 0.11236666666666667, 0.1135\n",
      "train acc, test acc | 0.11236666666666667, 0.1135\n",
      "train acc, test acc | 0.11236666666666667, 0.1135\n",
      "train acc, test acc | 0.11236666666666667, 0.1135\n",
      "train acc, test acc | 0.11236666666666667, 0.1135\n",
      "train acc, test acc | 0.11236666666666667, 0.1135\n",
      "train acc, test acc | 0.11236666666666667, 0.1135\n",
      "train acc, test acc | 0.11236666666666667, 0.1135\n",
      "train acc, test acc | 0.11236666666666667, 0.1135\n",
      "train acc, test acc | 0.11236666666666667, 0.1135\n",
      "train acc, test acc | 0.11236666666666667, 0.1135\n",
      "train acc, test acc | 0.11236666666666667, 0.1135\n",
      "train acc, test acc | 0.11236666666666667, 0.1135\n",
      "train acc, test acc | 0.11236666666666667, 0.1135\n",
      "train acc, test acc | 0.11236666666666667, 0.1135\n",
      "train acc, test acc | 0.11236666666666667, 0.1135\n",
      "train acc, test acc | 0.11236666666666667, 0.1135\n"
     ]
    }
   ],
   "source": [
    "for i in range(iters_num):\n",
    "    # 미니배치 획득\n",
    "    batch_mask = np.random.choice(train_size, batch_size)\n",
    "    x_batch = x_train[batch_mask]\n",
    "    t_batch = t_train[batch_mask]\n",
    "    \n",
    "    # 기울기 계산\n",
    "    #grad = network.numerical_gradient(x_batch, t_batch)\n",
    "    grad = network.gradient(x_batch, t_batch)\n",
    "    \n",
    "    # 매개변수 갱신\n",
    "    for key in ('W1', 'b1', 'W2', 'b2'):\n",
    "        network.params[key] -= learning_rate * grad[key]\n",
    "    \n",
    "    # 학습 경과 기록\n",
    "    loss = network.loss(x_batch, t_batch)\n",
    "    train_loss_list.append(loss)\n",
    "    \n",
    "    # 1에폭당 정확도 계산\n",
    "    if i % iter_per_epoch == 0:\n",
    "        train_acc = network.accuracy(x_train, t_train)\n",
    "        test_acc = network.accuracy(x_test, t_test)\n",
    "        train_acc_list.append(train_acc)\n",
    "        test_acc_list.append(test_acc)\n",
    "        print(\"train acc, test acc | \" + str(train_acc) + \", \" + str(test_acc))\n"
   ]
  },
  {
   "cell_type": "code",
   "execution_count": 60,
   "id": "e1b3f1de",
   "metadata": {},
   "outputs": [
    {
     "data": {
      "image/png": "[encoded data removed]",
      "text/plain": [
       "<Figure size 432x288 with 1 Axes>"
      ]
     },
     "metadata": {
      "needs_background": "light"
     },
     "output_type": "display_data"
    }
   ],
   "source": [
    "# 그래프 그리기\n",
    "markers = {'train': 'o', 'test': 's'}\n",
    "x = np.arange(len(train_acc_list))\n",
    "plt.plot(x, train_acc_list, label='train acc')\n",
    "plt.plot(x, test_acc_list, label='test acc', linestyle='--')\n",
    "plt.xlabel(\"epochs\")\n",
    "plt.ylabel(\"accuracy\")\n",
    "plt.ylim(0, 1.0)\n",
    "plt.legend(loc='lower right')\n",
    "plt.show()"
   ]
  },
  {
   "cell_type": "code",
   "execution_count": 61,
   "id": "bc865426",
   "metadata": {},
   "outputs": [
    {
     "data": {
      "image/png": "[encoded data removed]",
      "text/plain": [
       "<Figure size 432x288 with 1 Axes>"
      ]
     },
     "metadata": {
      "needs_background": "light"
     },
     "output_type": "display_data"
    }
   ],
   "source": [
    "# 손실률 그래프 그리기\n",
    "markers = {'train': 'o'}\n",
    "\n",
    "x = np.arange(len(train_loss_list))\n",
    "\n",
    "plt.plot(x, np.flip(train_loss_list), label='train loss')\n",
    "plt.xlabel(\"training count\")\n",
    "plt.ylabel(\"loss\")\n",
    "plt.ylim(0, 20.0)\n",
    "plt.legend(loc='lower right')\n",
    "plt.show()"
   ]
  },
  {
   "cell_type": "code",
   "execution_count": null,
   "id": "ccfb07c7",
   "metadata": {},
   "outputs": [],
   "source": []
  }
 ],
 "metadata": {
  "kernelspec": {
   "display_name": "Python 3 (ipykernel)",
   "language": "python",
   "name": "python3"
  },
  "language_info": {
   "codemirror_mode": {
    "name": "ipython",
    "version": 3
   },
   "file_extension": ".py",
   "mimetype": "text/x-python",
   "name": "python",
   "nbconvert_exporter": "python",
   "pygments_lexer": "ipython3",
   "version": "3.10.5"
  }
 },
 "nbformat": 4,
 "nbformat_minor": 5
}
